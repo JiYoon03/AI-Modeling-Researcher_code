{
  "nbformat": 4,
  "nbformat_minor": 0,
  "metadata": {
    "colab": {
      "provenance": [],
      "authorship_tag": "ABX9TyMfOfir+IaEDfCRrCxhYl2g",
      "include_colab_link": true
    },
    "kernelspec": {
      "name": "python3",
      "display_name": "Python 3"
    },
    "language_info": {
      "name": "python"
    }
  },
  "cells": [
    {
      "cell_type": "markdown",
      "metadata": {
        "id": "view-in-github",
        "colab_type": "text"
      },
      "source": [
        "<a href=\"https://colab.research.google.com/github/JiYoon03/AI-Modeling-Researcher_code/blob/main/%08Q3_A_JiYoon.ipynb\" target=\"_parent\"><img src=\"https://colab.research.google.com/assets/colab-badge.svg\" alt=\"Open In Colab\"/></a>"
      ]
    },
    {
      "cell_type": "markdown",
      "source": [
        "1. 핵심 정보 추출\n",
        ": 문서에서 중요한 정보인 보험 조건, 특약 옵션, 보험료 정보를 추출합니다.\n",
        "2. 다단계 추론: 각 정보를 단계별로 처리하고, 이를 결합하여 최종적인 답변을 생성합니다.\n",
        "3. 문맥 추적: 문서에서 정보를 청크로 나누어 문맥을 추적하고 연결합니다.\n"
      ],
      "metadata": {
        "id": "dqxAop2xpj6K"
      }
    },
    {
      "cell_type": "code",
      "execution_count": 18,
      "metadata": {
        "id": "R4eJ1TjJoHYl"
      },
      "outputs": [],
      "source": [
        "import re\n",
        "\n",
        "class InformationExtraction:\n",
        "    def __init__(self, document):\n",
        "        self.document = document\n",
        "\n",
        "    def extract_basic_conditions(self):\n",
        "        # 자동차 보험 기본 조건 추출\n",
        "        conditions = re.findall(r\"기본 조건:.*?([^\\n]+)\", self.document, re.DOTALL)\n",
        "        return conditions\n",
        "\n",
        "    def extract_optional_coverages(self):\n",
        "        # 특약 옵션 추출\n",
        "        optional_coverages = re.findall(r\"특약 옵션:.*?([^\\n]+)\", self.document, re.DOTALL)\n",
        "        return optional_coverages\n",
        "\n",
        "    def extract_premium_info(self):\n",
        "        # 보험료 정보 추출\n",
        "        premiums = re.findall(r\"보험료:.*?([^\\n]+)\", self.document, re.DOTALL)\n",
        "        return premiums\n",
        "\n",
        "    def extract_registration(self):\n",
        "        # 가입 절차 정보 추출\n",
        "        registration = re.findall(r\"가입 절차:.*?([^\\n]+)\", self.document, re.DOTALL)\n",
        "        return registration\n",
        "\n",
        "    def extract_all_info(self):\n",
        "        # 모든 정보 추출\n",
        "        basic_conditions = self.extract_basic_conditions()\n",
        "        optional_coverages = self.extract_optional_coverages()\n",
        "        premiums = self.extract_premium_info()\n",
        "        registration = self.extract_registration()\n",
        "        return {\n",
        "            \"basic_conditions\": basic_conditions,\n",
        "            \"optional_coverages\": optional_coverages,\n",
        "            \"premiums\": premiums,\n",
        "            \"registration\":registration\n",
        "        }\n"
      ]
    },
    {
      "cell_type": "code",
      "source": [
        "class MultiStageReasoning:\n",
        "    def __init__(self, extracted_info):\n",
        "        self.extracted_info = extracted_info\n",
        "\n",
        "    def stage_1(self):\n",
        "        # 기본 보험 조건\n",
        "        return f\"기본 보험 조건: {self.extracted_info['basic_conditions']}\"\n",
        "\n",
        "    def stage_2(self):\n",
        "        # 특약 옵션\n",
        "        return f\"특약 옵션: {self.extracted_info['optional_coverages']}\"\n",
        "\n",
        "    def stage_3(self):\n",
        "        # 보험료 정보\n",
        "        return f\"보험료 정보: {self.extracted_info['premiums']}\"\n",
        "    def stage_4(self):\n",
        "        # 가입 절차\n",
        "        return f\"가입 절차: {self.extracted_info['registration']}\"\n",
        "    def process(self):\n",
        "        # 단계별로 정보 추출 후 종합\n",
        "        stage_1_output = self.stage_1()\n",
        "        stage_2_output = self.stage_2()\n",
        "        stage_3_output = self.stage_3()\n",
        "        stage_4_output = self.stage_4()\n",
        "        final_output = f\"{stage_1_output}\\n{stage_2_output}\\n{stage_3_output}\\n{stage_4_output}\"\n",
        "        return final_output\n"
      ],
      "metadata": {
        "id": "QJ5G-ad9pvSN"
      },
      "execution_count": 19,
      "outputs": []
    },
    {
      "cell_type": "code",
      "source": [
        "class ContextTracking:\n",
        "    def __init__(self, document):\n",
        "        self.document = document\n",
        "        self.context = []\n",
        "\n",
        "    def add_context(self, context_chunk):\n",
        "        # 문맥 추가\n",
        "        self.context.append(context_chunk)\n",
        "\n",
        "    def retrieve_context(self):\n",
        "        # 문맥 추적 및 결합\n",
        "        return \" \".join(self.context)\n",
        "\n",
        "    def track_context(self):\n",
        "        # 문서에서 추출된 정보에 문맥 추가\n",
        "        extracted_info = self.document.split(\"\\n\")  # 각 줄을 하나의 청크로 나누어 문맥 추적\n",
        "        for chunk in extracted_info:\n",
        "            self.add_context(chunk)\n",
        "        return self.retrieve_context()\n"
      ],
      "metadata": {
        "id": "AIZV7Z3zqYAl"
      },
      "execution_count": 20,
      "outputs": []
    },
    {
      "cell_type": "markdown",
      "source": [
        "**사용자가 질문을 하면, 자동차보험과 관련된 문서에서 정보를 추출하고, 이를 다단계 추론과 문맥 추적을 통해 답변을 제공합니다.**"
      ],
      "metadata": {
        "id": "cuHeTxZjsx4s"
      }
    },
    {
      "cell_type": "code",
      "source": [
        "class InsuranceChatBot:\n",
        "    def __init__(self, document):\n",
        "        self.document = document\n",
        "        self.ie = InformationExtraction(document)\n",
        "        self.mt = MultiStageReasoning(self.ie.extract_all_info())\n",
        "        self.ct = ContextTracking(document)\n",
        "\n",
        "    def get_answer(self, query):\n",
        "        \"\"\"\n",
        "        사용자가 질문하면, 해당 질문에 맞는 정보를 추출하여 답변.\n",
        "        \"\"\"\n",
        "        # 핵심 정보 추출\n",
        "        extracted_info = self.ie.extract_all_info()\n",
        "\n",
        "        # 다단계 추론 처리\n",
        "        reasoning_output = self.mt.process()\n",
        "\n",
        "        # 문맥 추적 처리\n",
        "        context_output = self.ct.track_context()\n",
        "\n",
        "        # 질문에 따른 적절한 답변을 조합\n",
        "        if \"보험 조건\" in query:\n",
        "            response = f\"보험 조건에 대한 정보: {extracted_info['basic_conditions']}\"\n",
        "        elif \"특약\" in query or \"옵션\" in query:\n",
        "            response = f\"특약 옵션에 대한 정보: {extracted_info['optional_coverages']}\"\n",
        "        elif \"보험료\" in query:\n",
        "            response = f\"보험료 정보: {extracted_info['premiums']}\"\n",
        "        elif \"가입 절차\" in query:\n",
        "            response = f\"가입 절차: {extracted_info['registration']}\"\n",
        "        else:\n",
        "            # 기본적으로 문맥과 다단계 추론 결과를 포함한 종합 답변\n",
        "            response = f\"질문: {query}\\n\\n{reasoning_output}\\n\\n문맥 추적 결과: {context_output}\"\n",
        "\n",
        "        return response\n",
        "\n",
        "\n",
        "# 예시 문서 (자동차 보험에 관한 내용)\n",
        "document = \"\"\"\n",
        "자동차보험 기본 조건:\n",
        "차량 사고 시 수리비, 병원 치료비, 법적 배상금 등을 보장\n",
        "연령 21세 이상\n",
        "면허 취득 2년 이상\n",
        "\n",
        "특약 옵션:\n",
        "자녀 할인: 18세 이하 자녀를 가진 운전자는 보험료의 10% 할인\n",
        "무사고 할인: 1년 이상 무사고 운전 시 보험료의 5% 할인\n",
        "주차장 사고 보장: 주차장에서 발생한 사고도 보장\n",
        "\n",
        "보험료:\n",
        "평균 보험료는 연간 100만 원에서 150만 원 사이\n",
        "\n",
        "가입 절차:\n",
        "온라인 신청 후, 서류 제출 및 상담을 통해 가입\n",
        "차량 점검이 필요한 경우, 보험사가 지정한 서비스 센터에서 점검\n",
        "\"\"\"\n",
        "\n",
        "if __name__ == \"__main__\":\n",
        "    chatbot = InsuranceChatBot(document)\n",
        "    print(\"안녕하세요! 무엇을 도와드릴까요?\")\n",
        "\n",
        "    while True:\n",
        "        user_input = input(\"사용자: \")\n",
        "        if user_input.lower() in [\"exit\", \"종료\", \"quit\"]:\n",
        "            print(\"챗봇 종료!\")\n",
        "            break\n",
        "\n",
        "        response = chatbot.get_answer(user_input)\n",
        "        print(\"챗봇: \" + response)\n"
      ],
      "metadata": {
        "colab": {
          "base_uri": "https://localhost:8080/"
        },
        "id": "UVJS1gAOqYZX",
        "outputId": "c3deb48a-a97a-462b-d7ea-a081041a5b72"
      },
      "execution_count": 21,
      "outputs": [
        {
          "output_type": "stream",
          "name": "stdout",
          "text": [
            "안녕하세요! 무엇을 도와드릴까요?\n",
            "사용자: 자동차보험의 기본 조건에 대해 알려줘\n",
            "챗봇: 질문: 자동차보험의 기본 조건에 대해 알려줘\n",
            "\n",
            "기본 보험 조건: ['차량 사고 시 수리비, 병원 치료비, 법적 배상금 등을 보장']\n",
            "특약 옵션: ['자녀 할인: 18세 이하 자녀를 가진 운전자는 보험료의 10% 할인']\n",
            "보험료 정보: ['평균 보험료는 연간 100만 원에서 150만 원 사이']\n",
            "가입 절차: ['온라인 신청 후, 서류 제출 및 상담을 통해 가입']\n",
            "\n",
            "문맥 추적 결과:  자동차보험 기본 조건: 차량 사고 시 수리비, 병원 치료비, 법적 배상금 등을 보장 연령 21세 이상 면허 취득 2년 이상  특약 옵션: 자녀 할인: 18세 이하 자녀를 가진 운전자는 보험료의 10% 할인 무사고 할인: 1년 이상 무사고 운전 시 보험료의 5% 할인 주차장 사고 보장: 주차장에서 발생한 사고도 보장  보험료: 평균 보험료는 연간 100만 원에서 150만 원 사이  가입 절차: 온라인 신청 후, 서류 제출 및 상담을 통해 가입 차량 점검이 필요한 경우, 보험사가 지정한 서비스 센터에서 점검 \n",
            "사용자: 자동차보험의 특약 옵션에 대해 알려줘\n",
            "챗봇: 특약 옵션에 대한 정보: ['자녀 할인: 18세 이하 자녀를 가진 운전자는 보험료의 10% 할인']\n",
            "사용자: 보험료에 대해 알려줘\n",
            "챗봇: 보험료 정보: ['평균 보험료는 연간 100만 원에서 150만 원 사이']\n",
            "사용자: 가입 절차 안내해줘\n",
            "챗봇: 가입 절차: ['온라인 신청 후, 서류 제출 및 상담을 통해 가입']\n",
            "사용자: 자동차보험에 대해 더 알려줘\n",
            "챗봇: 질문: 자동차보험에 대해 더 알려줘\n",
            "\n",
            "기본 보험 조건: ['차량 사고 시 수리비, 병원 치료비, 법적 배상금 등을 보장']\n",
            "특약 옵션: ['자녀 할인: 18세 이하 자녀를 가진 운전자는 보험료의 10% 할인']\n",
            "보험료 정보: ['평균 보험료는 연간 100만 원에서 150만 원 사이']\n",
            "가입 절차: ['온라인 신청 후, 서류 제출 및 상담을 통해 가입']\n",
            "\n",
            "문맥 추적 결과:  자동차보험 기본 조건: 차량 사고 시 수리비, 병원 치료비, 법적 배상금 등을 보장 연령 21세 이상 면허 취득 2년 이상  특약 옵션: 자녀 할인: 18세 이하 자녀를 가진 운전자는 보험료의 10% 할인 무사고 할인: 1년 이상 무사고 운전 시 보험료의 5% 할인 주차장 사고 보장: 주차장에서 발생한 사고도 보장  보험료: 평균 보험료는 연간 100만 원에서 150만 원 사이  가입 절차: 온라인 신청 후, 서류 제출 및 상담을 통해 가입 차량 점검이 필요한 경우, 보험사가 지정한 서비스 센터에서 점검   자동차보험 기본 조건: 차량 사고 시 수리비, 병원 치료비, 법적 배상금 등을 보장 연령 21세 이상 면허 취득 2년 이상  특약 옵션: 자녀 할인: 18세 이하 자녀를 가진 운전자는 보험료의 10% 할인 무사고 할인: 1년 이상 무사고 운전 시 보험료의 5% 할인 주차장 사고 보장: 주차장에서 발생한 사고도 보장  보험료: 평균 보험료는 연간 100만 원에서 150만 원 사이  가입 절차: 온라인 신청 후, 서류 제출 및 상담을 통해 가입 차량 점검이 필요한 경우, 보험사가 지정한 서비스 센터에서 점검   자동차보험 기본 조건: 차량 사고 시 수리비, 병원 치료비, 법적 배상금 등을 보장 연령 21세 이상 면허 취득 2년 이상  특약 옵션: 자녀 할인: 18세 이하 자녀를 가진 운전자는 보험료의 10% 할인 무사고 할인: 1년 이상 무사고 운전 시 보험료의 5% 할인 주차장 사고 보장: 주차장에서 발생한 사고도 보장  보험료: 평균 보험료는 연간 100만 원에서 150만 원 사이  가입 절차: 온라인 신청 후, 서류 제출 및 상담을 통해 가입 차량 점검이 필요한 경우, 보험사가 지정한 서비스 센터에서 점검   자동차보험 기본 조건: 차량 사고 시 수리비, 병원 치료비, 법적 배상금 등을 보장 연령 21세 이상 면허 취득 2년 이상  특약 옵션: 자녀 할인: 18세 이하 자녀를 가진 운전자는 보험료의 10% 할인 무사고 할인: 1년 이상 무사고 운전 시 보험료의 5% 할인 주차장 사고 보장: 주차장에서 발생한 사고도 보장  보험료: 평균 보험료는 연간 100만 원에서 150만 원 사이  가입 절차: 온라인 신청 후, 서류 제출 및 상담을 통해 가입 차량 점검이 필요한 경우, 보험사가 지정한 서비스 센터에서 점검   자동차보험 기본 조건: 차량 사고 시 수리비, 병원 치료비, 법적 배상금 등을 보장 연령 21세 이상 면허 취득 2년 이상  특약 옵션: 자녀 할인: 18세 이하 자녀를 가진 운전자는 보험료의 10% 할인 무사고 할인: 1년 이상 무사고 운전 시 보험료의 5% 할인 주차장 사고 보장: 주차장에서 발생한 사고도 보장  보험료: 평균 보험료는 연간 100만 원에서 150만 원 사이  가입 절차: 온라인 신청 후, 서류 제출 및 상담을 통해 가입 차량 점검이 필요한 경우, 보험사가 지정한 서비스 센터에서 점검 \n",
            "사용자: 종료\n",
            "챗봇 종료!\n"
          ]
        }
      ]
    }
  ]
}